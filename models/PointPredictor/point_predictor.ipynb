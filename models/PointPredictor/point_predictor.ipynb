{
 "cells": [
  {
   "cell_type": "code",
   "execution_count": 17,
   "metadata": {},
   "outputs": [
    {
     "name": "stdout",
     "output_type": "stream",
     "text": [
      "Epoch [1000/10000], Loss: 0.000367\n",
      "Epoch [2000/10000], Loss: 0.000205\n",
      "Epoch [3000/10000], Loss: 0.000173\n",
      "Epoch [4000/10000], Loss: 0.000165\n",
      "Epoch [5000/10000], Loss: 0.000155\n",
      "Epoch [6000/10000], Loss: 0.000144\n",
      "Epoch [7000/10000], Loss: 0.000134\n",
      "Epoch [8000/10000], Loss: 0.000125\n",
      "Epoch [9000/10000], Loss: 0.000117\n",
      "Epoch [10000/10000], Loss: 0.000109\n"
     ]
    }
   ],
   "source": [
    "import torch\n",
    "import torch.nn as nn\n",
    "import torch.optim as optim\n",
    "import numpy as np\n",
    "import os\n",
    "\n",
    "device = torch.device('cuda') if torch.cuda.is_available() else torch.device('cpu')\n",
    "\n",
    "class PointPredictor(nn.Module):\n",
    "    def __init__(self, input_size, hidden_size, output_size):\n",
    "        super(PointPredictor, self).__init__()\n",
    "        self.fc1 = nn.Linear(input_size, hidden_size)\n",
    "        self.relu = nn.ReLU()\n",
    "        self.fc2 = nn.Linear(hidden_size, output_size)\n",
    "\n",
    "    def forward(self, x):\n",
    "        out = self.fc1(x)\n",
    "        out = self.relu(out)\n",
    "        out = self.fc2(out)\n",
    "        return out\n",
    "\n",
    "# Hyperparameters\n",
    "input_size = 6  # 3 points * 2 coordinates each\n",
    "hidden_size = 50\n",
    "output_size = 2  # Predicting next (x, y)\n",
    "\n",
    "# Initialize the model\n",
    "model = PointPredictor(input_size, hidden_size, output_size).to(device=device)\n",
    "\n",
    "# Loss and optimizer\n",
    "criterion = nn.MSELoss()\n",
    "optimizer = optim.Adam(model.parameters(), lr=0.001)\n",
    "\n",
    "data_path = os.path.join('..','..','..','data','NHANES2','point_predictor_data')\n",
    "\n",
    "X_train = np.load(os.path.join(data_path,'train_input.npy'))\n",
    "y_train = np.load(os.path.join(data_path,'train_output.npy'))\n",
    "\n",
    "X_train = torch.tensor(X_train, dtype=torch.float32, device=device)\n",
    "y_train = torch.tensor(y_train, dtype=torch.float32, device=device)\n",
    "\n",
    "X_val = np.load(os.path.join(data_path,'val_input.npy'))\n",
    "y_val = np.load(os.path.join(data_path,'val_output.npy'))\n",
    "\n",
    "X_val = torch.tensor(X_val, dtype=torch.float32, device=device)\n",
    "y_val = torch.tensor(y_val, dtype=torch.float32, device=device)\n",
    "\n",
    "# Training loop (assuming X_train and y_train are prepared as before)\n",
    "for epoch in range(10000):\n",
    "    model.train()\n",
    "    optimizer.zero_grad()\n",
    "    outputs = model(X_train.view(-1, input_size))  # Flatten input to match input_size\n",
    "    loss = criterion(outputs, y_train)\n",
    "    loss.backward()\n",
    "    optimizer.step()\n",
    "\n",
    "    if (epoch + 1) % 1000 == 0:\n",
    "        model.eval()\n",
    "        with torch.no_grad():\n",
    "            outputs = model(X_val.view(-1, input_size))\n",
    "            loss = criterion(outputs, y_val)\n",
    "        print(f'Epoch [{epoch+1}/10000], Loss: {loss.item():.6f}')\n",
    "    \n",
    "torch.save(model.state_dict(),os.path.join('..','..','weights','point_predictor.pth'))"
   ]
  },
  {
   "cell_type": "code",
   "execution_count": null,
   "metadata": {},
   "outputs": [],
   "source": []
  }
 ],
 "metadata": {
  "kernelspec": {
   "display_name": "Python 3 (ipykernel)",
   "language": "python",
   "name": "python3"
  },
  "language_info": {
   "codemirror_mode": {
    "name": "ipython",
    "version": 3
   },
   "file_extension": ".py",
   "mimetype": "text/x-python",
   "name": "python",
   "nbconvert_exporter": "python",
   "pygments_lexer": "ipython3",
   "version": "3.10.8"
  }
 },
 "nbformat": 4,
 "nbformat_minor": 2
}
