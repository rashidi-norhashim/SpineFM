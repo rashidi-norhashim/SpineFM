{
 "cells": [
  {
   "cell_type": "code",
   "execution_count": 1,
   "metadata": {},
   "outputs": [],
   "source": [
    "import os\n",
    "import numpy as np\n",
    "from PIL import Image\n",
    "import matplotlib.pyplot as plt\n",
    "from scipy.ndimage import gaussian_filter"
   ]
  },
  {
   "cell_type": "code",
   "execution_count": 21,
   "metadata": {},
   "outputs": [],
   "source": [
    "data_path = os.path.join('..','data','NHANES2','Vertebrae')\n",
    "\n",
    "mode = 'test'\n",
    "\n",
    "if mode == 'train':\n",
    "    with open(os.path.join(data_path,'..','data_split','train.txt'),'r') as f:\n",
    "        id_list = [line[0:6] for line in f.readlines()]\n",
    "elif mode == 'val':\n",
    "    with open(os.path.join(data_path,'..','data_split','val.txt'),'r') as f:\n",
    "        id_list = [line[0:6] for line in f.readlines()]\n",
    "elif mode == 'test':\n",
    "    with open(os.path.join(data_path,'..','data_split','test.txt'),'r') as f:\n",
    "        id_list = [line[0:6] for line in f.readlines()]\n",
    "\n",
    "gt_path = os.path.join(data_path,'gts')\n",
    "gt_filenames = [filename for filename in os.listdir(gt_path) if filename.split('_')[0] in id_list]"
   ]
  },
  {
   "cell_type": "code",
   "execution_count": 22,
   "metadata": {},
   "outputs": [],
   "source": [
    "os.makedirs(os.path.join(data_path,'resnet_background_sample_areas'),exist_ok=True)\n",
    "\n",
    "for id in id_list[:]:\n",
    "\n",
    "    whole_gt = []\n",
    "\n",
    "    for filename in [f for f in gt_filenames if f.split('_')[0] == id]:\n",
    "        gt = np.load(os.path.join(data_path,'gts',filename)).astype(np.float32)\n",
    "        if type(whole_gt) == list:\n",
    "            whole_gt = gt\n",
    "        else:\n",
    "            whole_gt += gt\n",
    "\n",
    "    filtered_gt = gaussian_filter(whole_gt,sigma=40)\n",
    "    rough_border = (filtered_gt > 0.1).astype(np.float32)\n",
    "\n",
    "    filtered_gt_2 = gaussian_filter(rough_border,sigma=50)\n",
    "    rough_border_2 = (filtered_gt_2 > 0.05).astype(np.uint8)\n",
    "\n",
    "    sample_area = rough_border_2-rough_border\n",
    "\n",
    "    np.save(os.path.join(data_path,'resnet_background_sample_areas',id+'.npy'),sample_area)"
   ]
  }
 ],
 "metadata": {
  "kernelspec": {
   "display_name": "Python 3 (ipykernel)",
   "language": "python",
   "name": "python3"
  },
  "language_info": {
   "codemirror_mode": {
    "name": "ipython",
    "version": 3
   },
   "file_extension": ".py",
   "mimetype": "text/x-python",
   "name": "python",
   "nbconvert_exporter": "python",
   "pygments_lexer": "ipython3",
   "version": "3.11.9"
  }
 },
 "nbformat": 4,
 "nbformat_minor": 2
}
