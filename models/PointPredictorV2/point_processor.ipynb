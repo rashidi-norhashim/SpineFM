{
 "cells": [
  {
   "cell_type": "code",
   "execution_count": 1,
   "metadata": {},
   "outputs": [],
   "source": [
    "# This program processes the vertebrae ground truth masks into normalised sets of 3 input points and 1 target point which can be used to train the point predictor\n",
    "\n",
    "import os\n",
    "import numpy as np\n",
    "from skimage.measure import regionprops\n",
    "import matplotlib.pyplot as plt\n",
    "from PIL import Image\n",
    "\n",
    "VERTEBRA_DICT = {'C2':1,'C3':2,'C4':3,'C5':4,'C6':5,'C7':6,'T1':7,'T12':8,'L1':9,'L2':10,'L3':11,'L4':12,'L5':13,'S1':14}\n",
    "data_path = os.path.join('..','..','..','data','NHANES2','point_predictor_v2')\n",
    "os.makedirs(data_path,exist_ok=True)\n",
    "\n",
    "gt_path = os.path.join(data_path,'..','Vertebrae','gts')\n",
    "gt_filenames = [filename for filename in os.listdir(gt_path)]"
   ]
  },
  {
   "cell_type": "code",
   "execution_count": 2,
   "metadata": {},
   "outputs": [],
   "source": [
    "# Function to rotate a point around a center\n",
    "def rotate_point(point, center, angle_deg):\n",
    "    # Convert angle to radians\n",
    "    angle_rad = -1*np.deg2rad(angle_deg)\n",
    "    \n",
    "    # Shift the point to the origin relative to the center\n",
    "    shifted_x = point[0] - center[0]\n",
    "    shifted_y = point[1] - center[1]\n",
    "    \n",
    "    # Apply 2D rotation matrix\n",
    "    new_x = shifted_x * np.cos(angle_rad) - shifted_y * np.sin(angle_rad)\n",
    "    new_y = shifted_x * np.sin(angle_rad) + shifted_y * np.cos(angle_rad)\n",
    "    \n",
    "    # Shift back to the original center\n",
    "    rotated_x = new_x + center[0]\n",
    "    rotated_y = new_y + center[1]\n",
    "    \n",
    "    return (rotated_x, rotated_y)"
   ]
  },
  {
   "cell_type": "code",
   "execution_count": 4,
   "metadata": {},
   "outputs": [],
   "source": [
    "centroid_dict = {}\n",
    "\n",
    "for filename in gt_filenames:\n",
    "    \n",
    "    id = filename.split('_')[0]\n",
    "    level = filename.split('_')[1].split('.')[0]\n",
    "\n",
    "    if id not in centroid_dict.keys():\n",
    "        centroid_dict[id] = {}\n",
    "\n",
    "    mask = np.load(os.path.join(gt_path,filename)).astype(np.uint8)\n",
    "    h,w = mask.shape[-2:]\n",
    "\n",
    "    c_y,c_x = regionprops(mask)[0]['centroid']\n",
    "    #c_x,c_y = c_x/w,c_y/h\n",
    "\n",
    "    centroid_dict[id][VERTEBRA_DICT[level]] = (c_x,c_y)"
   ]
  },
  {
   "cell_type": "code",
   "execution_count": 5,
   "metadata": {},
   "outputs": [],
   "source": [
    "input_points_dict = {}\n",
    "output_points_dict = {}\n",
    "\n",
    "for id,dict in centroid_dict.items():\n",
    "    \n",
    "    input_points_dict[id] = []\n",
    "    output_points_dict[id] = []\n",
    "\n",
    "    sorted_points = [dict[level] for level in sorted(dict.keys())]\n",
    "    for i in range(len(sorted_points)-2):\n",
    "        points = sorted_points[i:i+3]\n",
    "\n",
    "        input_points_dict[id].append(points[:-1])\n",
    "        input_points_dict[id].append(points[:0:-1])\n",
    "\n",
    "        output_points_dict[id].append(points[-1])\n",
    "        output_points_dict[id].append(points[0])"
   ]
  },
  {
   "cell_type": "code",
   "execution_count": 54,
   "metadata": {},
   "outputs": [],
   "source": [
    "import math\n",
    "import pickle\n",
    "\n",
    "labels = {}\n",
    "\n",
    "os.makedirs(os.path.join(data_path,'imgs'),exist_ok=True)\n",
    "\n",
    "for id in input_points_dict.keys():\n",
    "\n",
    "    input_points = input_points_dict[id]\n",
    "    output_points = output_points_dict[id]\n",
    "    base_img = Image.open(os.path.join(data_path,'..','Vertebrae','imgs',id+'.jpg')).convert('RGB')\n",
    "\n",
    "    for n,(((x1,y1),(x2,y2)),output) in enumerate(zip(input_points,output_points)):\n",
    "\n",
    "        \n",
    "        w = (((x2-x1)**2)+((y2-y1)**2))**0.5\n",
    "        theta = math.atan2((y2-y1),(x2-x1))*180/math.pi\n",
    "        center = (2*x2-x1,2*y2-y1)\n",
    "\n",
    "        img = base_img.rotate(theta)\n",
    "        rxo,ryo = rotate_point(output,(img.size[0]/2,img.size[1]/2),theta)\n",
    "        rxc,ryc = rotate_point(center,(img.size[0]/2,img.size[1]/2),theta)\n",
    "\n",
    "        img = img.crop((rxc-2*w,ryc-w,rxc+w,ryc+w))\n",
    "        img = img.resize((224, 224))\n",
    "\n",
    "        rxo,ryo = (rxo-rxc+2*w)*224/(3*w),(ryo-ryc+w)*224/(2*w)\n",
    "        \n",
    "        name = id+'_'+str(n)\n",
    "        labels[name] = (rxo,ryo)\n",
    "\n",
    "        img.save(os.path.join(data_path,'imgs',name+'.jpg'))\n",
    "\n"
   ]
  },
  {
   "cell_type": "code",
   "execution_count": 47,
   "metadata": {},
   "outputs": [],
   "source": [
    "with open(os.path.join(data_path,'labels.txt',),'rb') as f:\n",
    "    labels = pickle.load(f)"
   ]
  },
  {
   "cell_type": "code",
   "execution_count": 7,
   "metadata": {},
   "outputs": [
    {
     "ename": "ModuleNotFoundError",
     "evalue": "No module named 'models'",
     "output_type": "error",
     "traceback": [
      "\u001b[1;31m---------------------------------------------------------------------------\u001b[0m",
      "\u001b[1;31mModuleNotFoundError\u001b[0m                       Traceback (most recent call last)",
      "Cell \u001b[1;32mIn[7], line 1\u001b[0m\n\u001b[1;32m----> 1\u001b[0m \u001b[38;5;28;01mfrom\u001b[39;00m \u001b[38;5;21;01mutils\u001b[39;00m \u001b[38;5;28;01mimport\u001b[39;00m \u001b[38;5;241m*\u001b[39m\n\u001b[0;32m      3\u001b[0m \u001b[38;5;28;01mfor\u001b[39;00m \u001b[38;5;28mid\u001b[39m \u001b[38;5;129;01min\u001b[39;00m input_points_dict\u001b[38;5;241m.\u001b[39mkeys():\n\u001b[0;32m      5\u001b[0m     input_points \u001b[38;5;241m=\u001b[39m input_points_dict[\u001b[38;5;28mid\u001b[39m]\n",
      "File \u001b[1;32mc:\\Users\\simon\\Documents\\SpineFM\\projects\\SpineFM-working\\models\\PointPredictorV2\\utils.py:8\u001b[0m\n\u001b[0;32m      6\u001b[0m \u001b[38;5;28;01mfrom\u001b[39;00m \u001b[38;5;21;01mskimage\u001b[39;00m\u001b[38;5;21;01m.\u001b[39;00m\u001b[38;5;21;01mmeasure\u001b[39;00m \u001b[38;5;28;01mimport\u001b[39;00m regionprops\n\u001b[0;32m      7\u001b[0m \u001b[38;5;28;01mimport\u001b[39;00m \u001b[38;5;21;01msettings\u001b[39;00m\n\u001b[1;32m----> 8\u001b[0m \u001b[38;5;28;01mfrom\u001b[39;00m \u001b[38;5;21;01mmodels\u001b[39;00m\u001b[38;5;21;01m.\u001b[39;00m\u001b[38;5;21;01msam\u001b[39;00m \u001b[38;5;28;01mimport\u001b[39;00m sam_model_registry\n\u001b[0;32m      9\u001b[0m \u001b[38;5;28;01mfrom\u001b[39;00m \u001b[38;5;21;01mmodels\u001b[39;00m\u001b[38;5;21;01m.\u001b[39;00m\u001b[38;5;21;01mPointPredictor\u001b[39;00m\u001b[38;5;21;01m.\u001b[39;00m\u001b[38;5;21;01mpoint_predictor\u001b[39;00m \u001b[38;5;28;01mimport\u001b[39;00m PointPredictor\n\u001b[0;32m     10\u001b[0m \u001b[38;5;28;01mimport\u001b[39;00m \u001b[38;5;21;01mmath\u001b[39;00m\n",
      "\u001b[1;31mModuleNotFoundError\u001b[0m: No module named 'models'"
     ]
    }
   ],
   "source": [
    "\n",
    "from utils import *\n",
    "\n",
    "for id in input_points_dict.keys():\n",
    "\n",
    "    input_points = input_points_dict[id]\n",
    "    output_points = output_points_dict[id]\n",
    "    base_img = Image.open(os.path.join(data_path,'..','Vertebrae','imgs',id+'.jpg')).convert('RGB')\n",
    "\n",
    "    for n,(((x1,y1),(x2,y2)),output) in enumerate(zip(input_points,output_points)):\n",
    "\n",
    "        # plt.imshow(base_img)\n",
    "        # plt.scatter((x1,x2),(y1,y2))\n",
    "        # plt.scatter(output[0],output[1])\n",
    "\n",
    "\n",
    "        w = (((x2-x1)**2)+((y2-y1)**2))**0.5\n",
    "        theta = math.atan2((y2-y1),(x2-x1))*180/math.pi\n",
    "        center = (2*x2-x1,2*y2-y1)\n",
    "\n",
    "        img = base_img.rotate(theta)\n",
    "        rxo,ryo = rotate_point(output,(img.size[0]/2,img.size[1]/2),theta)\n",
    "        rxc,ryc = rotate_point(center,(img.size[0]/2,img.size[1]/2),theta)\n",
    "\n",
    "        # plt.imshow(img)\n",
    "        # plt.scatter(rxc,ryc)\n",
    "        # plt.scatter(rxo,ryo)\n",
    "\n",
    "        img = img.crop((rxc-2*w,ryc-w,rxc+w,ryc+w))\n",
    "        img = img.resize((224, 224))\n",
    "\n",
    "        rxo,ryo = (rxo-rxc+2*w)*224/(3*w),(ryo-ryc+w)*224/(2*w)\n",
    "        \n",
    "        PointPredictor = get_model\n",
    "    break"
   ]
  },
  {
   "cell_type": "code",
   "execution_count": 81,
   "metadata": {},
   "outputs": [
    {
     "data": {
      "text/plain": [
       "<matplotlib.image.AxesImage at 0x7fe0dbc1e910>"
      ]
     },
     "execution_count": 81,
     "metadata": {},
     "output_type": "execute_result"
    },
    {
     "data": {
      "image/png": "[encoded data removed]",
      "text/plain": [
       "<Figure size 640x480 with 1 Axes>"
      ]
     },
     "metadata": {},
     "output_type": "display_data"
    }
   ],
   "source": [
    "S1 = np.load(os.path.join(gt_path,'L02425_S1.npy'))\n",
    "L5 = np.load(os.path.join(gt_path,'L02425_L5.npy'))\n",
    "plt.imshow(S1+2*L5)\n",
    "#plt.imshow(base_img)"
   ]
  },
  {
   "cell_type": "code",
   "execution_count": 82,
   "metadata": {},
   "outputs": [
    {
     "name": "stdout",
     "output_type": "stream",
     "text": [
      "(283.0336820215024, 77.6589045057869)\n"
     ]
    }
   ],
   "source": [
    "print(labels['C04872_2'])"
   ]
  },
  {
   "cell_type": "code",
   "execution_count": 6,
   "metadata": {},
   "outputs": [],
   "source": [
    "np_input_points = np.array(input_points)\n",
    "np_output_points = np.array(output_points)\n",
    "\n",
    "os.makedirs(os.path.join(data_path,'..','point_predictor_data_v2'),exist_ok=True)\n",
    "\n",
    "np.save(os.path.join(data_path,'..','point_predictor_data_v2',mode+'_input.npy'),np_input_points)\n",
    "np.save(os.path.join(data_path,'..','point_predictor_data_v2',mode+'_output.npy'),np_output_points)"
   ]
  },
  {
   "cell_type": "code",
   "execution_count": 23,
   "metadata": {},
   "outputs": [],
   "source": [
    "import pickle\n",
    "\n",
    "os.makedirs(os.path.join(data_path,'points'),exist_ok=True)\n",
    "\n",
    "pickle_dict = {}\n",
    "\n",
    "for id,v_dict in centroid_dict.items():\n",
    "    n=0\n",
    "    for vid,centroid in v_dict.items():\n",
    "        level = next(key for key, value in VERTEBRA_DICT.items() if value == vid)\n",
    "        v_key = id+'_'+level\n",
    "        pickle_dict[v_key] = (int(centroid[0]),int(centroid[1]))\n",
    "        bg_key = id+'_BG'+str(n)\n",
    "        n+=1\n",
    "        pickle_dict[bg_key] = (0,0)\n",
    "\n",
    "with open(os.path.join(data_path,'points',mode+'.pkl'),'wb') as f:\n",
    "    pickle.dump(pickle_dict,f)"
   ]
  },
  {
   "cell_type": "code",
   "execution_count": 9,
   "metadata": {},
   "outputs": [
    {
     "name": "stdout",
     "output_type": "stream",
     "text": [
      "{'C00166_C2': (773, 1035), 'C00166_BG0': (0, 0), 'C00166_C3': (673, 1147), 'C00166_BG1': (0, 0), 'C00166_C4': (600, 1202), 'C00166_BG2': (0, 0), 'C00166_C5': (515, 1249), 'C00166_BG3': (0, 0), 'C00166_C6': (448, 1311), 'C00166_BG4': (0, 0), 'C00166_C7': (368, 1376), 'C00166_BG5': (0, 0), 'C00174_C2': (1197, 529), 'C00174_BG0': (0, 0), 'C00174_C3': (1093, 636), 'C00174_BG1': (0, 0), 'C00174_C4': (1020, 719), 'C00174_BG2': (0, 0), 'C00174_C5': (948, 810), 'C00174_BG3': (0, 0), 'C00174_C6': (879, 888), 'C00174_BG4': (0, 0), 'C00179_C2': (1017, 918), 'C00179_BG0': (0, 0), 'C00179_C3': (912, 1021), 'C00179_BG1': (0, 0), 'C00179_C4': (833, 1089), 'C00179_BG2': (0, 0), 'C00179_C5': (743, 1142), 'C00179_BG3': (0, 0), 'C00179_C6': (668, 1197), 'C00179_BG4': (0, 0), 'C00197_C2': (996, 943), 'C00197_BG0': (0, 0), 'C00197_C3': (895, 1062), 'C00197_BG1': (0, 0), 'C00197_C4': (828, 1143), 'C00197_BG2': (0, 0), 'C00197_C5': (758, 1222), 'C00197_BG3': (0, 0), 'C00197_C6': (704, 1305), 'C00197_BG4': (0, 0), 'C00197_C7': (642, 1390), 'C00197_BG5': (0, 0), 'C00212_C2': (1212, 740), 'C00212_BG0': (0, 0), 'C00212_C3': (1114, 894), 'C00212_BG1': (0, 0), 'C00212_C4': (1041, 995), 'C00212_BG2': (0, 0), 'C00212_C5': (963, 1079), 'C00212_BG3': (0, 0), 'C00212_C6': (905, 1164), 'C00212_BG4': (0, 0), 'C00212_C7': (849, 1252), 'C00212_BG5': (0, 0), 'C00227_C2': (1094, 599), 'C00227_BG0': (0, 0), 'C00227_C3': (995, 694), 'C00227_BG1': (0, 0), 'C00227_C4': (917, 756), 'C00227_BG2': (0, 0), 'C00227_C5': (843, 810), 'C00227_BG3': (0, 0), 'C00227_C6': (803, 880), 'C00227_BG4': (0, 0), 'C00227_C7': (749, 949), 'C00227_BG5': (0, 0), 'C00228_C2': (1051, 867), 'C00228_BG0': (0, 0), 'C00228_C3': (938, 1001), 'C00228_BG1': (0, 0), 'C00228_C4': (849, 1076), 'C00228_BG2': (0, 0), 'C00228_C5': (755, 1141), 'C00228_BG3': (0, 0), 'C00228_C6': (664, 1209), 'C00228_BG4': (0, 0), 'C00228_C7': (588, 1291), 'C00228_BG5': (0, 0), 'C00228_T1': (497, 1387), 'C00228_BG6': (0, 0), 'C00325_C2': (1265, 635), 'C00325_BG0': (0, 0), 'C00325_C3': (1122, 768), 'C00325_BG1': (0, 0), 'C00325_C4': (1037, 851), 'C00325_BG2': (0, 0), 'C00325_C5': (939, 930), 'C00325_BG3': (0, 0), 'C00325_C6': (856, 1011), 'C00325_BG4': (0, 0), 'C00325_C7': (779, 1101), 'C00325_BG5': (0, 0), 'C00337_C2': (946, 992), 'C00337_BG0': (0, 0), 'C00337_C3': (832, 1074), 'C00337_BG1': (0, 0), 'C00337_C4': (745, 1121), 'C00337_BG2': (0, 0), 'C00337_C5': (658, 1170), 'C00337_BG3': (0, 0), 'C00337_C6': (585, 1230), 'C00337_BG4': (0, 0), 'C00337_C7': (504, 1295), 'C00337_BG5': (0, 0), 'C00340_C2': (1162, 928), 'C00340_BG0': (0, 0), 'C00340_C3': (1063, 1054), 'C00340_BG1': (0, 0), 'C00340_C4': (976, 1117), 'C00340_BG2': (0, 0), 'C00340_C5': (889, 1168), 'C00340_BG3': (0, 0), 'C00359_C2': (1191, 402), 'C00359_BG0': (0, 0), 'C00359_C3': (1080, 543), 'C00359_BG1': (0, 0), 'C00359_C4': (992, 635), 'C00359_BG2': (0, 0), 'C00359_C5': (907, 732), 'C00359_BG3': (0, 0), 'C00359_C6': (827, 835), 'C00359_BG4': (0, 0), 'C00359_C7': (759, 949), 'C00359_BG5': (0, 0), 'C00360_C2': (1186, 779), 'C00360_BG0': (0, 0), 'C00360_C3': (1076, 895), 'C00360_BG1': (0, 0), 'C00360_C4': (1004, 974), 'C00360_BG2': (0, 0), 'C00360_C5': (933, 1045), 'C00360_BG3': (0, 0), 'C00360_C6': (858, 1120), 'C00360_BG4': (0, 0), 'C00360_C7': (797, 1212), 'C00360_BG5': (0, 0), 'C00361_C2': (1012, 1146), 'C00361_BG0': (0, 0), 'C00361_C3': (894, 1245), 'C00361_BG1': (0, 0), 'C00361_C4': (812, 1306), 'C00361_BG2': (0, 0), 'C00361_C5': (728, 1367), 'C00361_BG3': (0, 0), 'C00361_C6': (656, 1428), 'C00361_BG4': (0, 0), 'C00365_C2': (1120, 909), 'C00365_BG0': (0, 0), 'C00365_C3': (1007, 1016), 'C00365_BG1': (0, 0), 'C00365_C4': (923, 1086), 'C00365_BG2': (0, 0), 'C00365_C5': (844, 1154), 'C00365_BG3': (0, 0), 'C00365_C6': (772, 1222), 'C00365_BG4': (0, 0), 'C00377_C2': (842, 749), 'C00377_BG0': (0, 0), 'C00377_C3': (723, 850), 'C00377_BG1': (0, 0), 'C00377_C4': (646, 923), 'C00377_BG2': (0, 0), 'C00377_C5': (577, 1001), 'C00377_BG3': (0, 0), 'C00377_C6': (515, 1085), 'C00377_BG4': (0, 0), 'C00377_C7': (448, 1163), 'C00377_BG5': (0, 0), 'C00422_C2': (1261, 712), 'C00422_BG0': (0, 0), 'C00422_C3': (1161, 834), 'C00422_BG1': (0, 0), 'C00422_C4': (1078, 905), 'C00422_BG2': (0, 0), 'C00422_C5': (1009, 974), 'C00422_BG3': (0, 0), 'C00422_C6': (964, 1058), 'C00422_BG4': (0, 0), 'C00422_C7': (921, 1135), 'C00422_BG5': (0, 0), 'C00434_C2': (1088, 798), 'C00434_BG0': (0, 0), 'C00434_C3': (974, 901), 'C00434_BG1': (0, 0), 'C00434_C4': (891, 966), 'C00434_BG2': (0, 0), 'C00656_C2': (1064, 727), 'C00656_BG0': (0, 0), 'C00656_C3': (939, 853), 'C00656_BG1': (0, 0), 'C00656_C4': (853, 945), 'C00656_BG2': (0, 0), 'C00656_C5': (759, 1034), 'C00656_BG3': (0, 0), 'C00656_C6': (694, 1122), 'C00656_BG4': (0, 0), 'C00656_C7': (611, 1219), 'C00656_BG5': (0, 0), 'C00701_C2': (1072, 865), 'C00701_BG0': (0, 0), 'C00701_C3': (941, 957), 'C00701_BG1': (0, 0), 'C00701_C4': (854, 1022), 'C00701_BG2': (0, 0), 'C00701_C5': (762, 1090), 'C00701_BG3': (0, 0), 'C00766_C2': (990, 982), 'C00766_BG0': (0, 0), 'C00766_C3': (887, 1094), 'C00766_BG1': (0, 0), 'C00766_C4': (812, 1164), 'C00766_BG2': (0, 0), 'C00766_C5': (743, 1237), 'C00766_BG3': (0, 0), 'C00767_C2': (1023, 811), 'C00767_BG0': (0, 0), 'C00767_C3': (930, 942), 'C00767_BG1': (0, 0), 'C00767_C4': (852, 1017), 'C00767_BG2': (0, 0), 'C00767_C5': (765, 1089), 'C00767_BG3': (0, 0), 'C00767_C6': (678, 1165), 'C00767_BG4': (0, 0), 'C00767_C7': (576, 1239), 'C00767_BG5': (0, 0), 'C00780_C2': (1160, 851), 'C00780_BG0': (0, 0), 'C00780_C3': (1025, 929), 'C00780_BG1': (0, 0), 'C00780_C4': (945, 987), 'C00780_BG2': (0, 0), 'C00780_C5': (865, 1035), 'C00780_BG3': (0, 0), 'C00780_C6': (789, 1089), 'C00780_BG4': (0, 0), 'C00780_C7': (706, 1147), 'C00780_BG5': (0, 0), 'C00802_C2': (1116, 647), 'C00802_BG0': (0, 0), 'C00802_C3': (1004, 783), 'C00802_BG1': (0, 0), 'C00802_C4': (906, 862), 'C00802_BG2': (0, 0), 'C00802_C5': (811, 936), 'C00802_BG3': (0, 0), 'C00802_C6': (722, 1000), 'C00802_BG4': (0, 0), 'C00802_C7': (622, 1071), 'C00802_BG5': (0, 0), 'C00808_C2': (840, 669), 'C00808_BG0': (0, 0), 'C00808_C3': (736, 776), 'C00808_BG1': (0, 0), 'C00808_C4': (674, 854), 'C00808_BG2': (0, 0), 'C00808_C5': (615, 940), 'C00808_BG3': (0, 0), 'C00808_C6': (571, 1031), 'C00808_BG4': (0, 0), 'C00808_C7': (531, 1129), 'C00808_BG5': (0, 0), 'C00829_C2': (1071, 951), 'C00829_BG0': (0, 0), 'C00829_C3': (957, 1050), 'C00829_BG1': (0, 0), 'C00829_C4': (861, 1111), 'C00829_BG2': (0, 0), 'C00829_C5': (757, 1163), 'C00829_BG3': (0, 0), 'C01063_C2': (1046, 745), 'C01063_BG0': (0, 0), 'C01063_C3': (988, 881), 'C01063_BG1': (0, 0), 'C01063_C4': (940, 970), 'C01063_BG2': (0, 0), 'C01063_C5': (889, 1054), 'C01063_BG3': (0, 0), 'C01063_C6': (846, 1136), 'C01063_BG4': (0, 0), 'C01079_C2': (1021, 576), 'C01079_BG0': (0, 0), 'C01079_C3': (928, 694), 'C01079_BG1': (0, 0), 'C01079_C4': (892, 767), 'C01079_BG2': (0, 0), 'C01079_C5': (879, 842), 'C01079_BG3': (0, 0), 'C01079_C6': (868, 914), 'C01079_BG4': (0, 0), 'C01079_C7': (844, 997), 'C01079_BG5': (0, 0), 'C01079_T1': (779, 1091), 'C01079_BG6': (0, 0), 'C01101_C2': (1227, 588), 'C01101_BG0': (0, 0), 'C01101_C3': (1101, 673), 'C01101_BG1': (0, 0), 'C01101_C4': (1033, 743), 'C01101_BG2': (0, 0), 'C01101_C5': (949, 799), 'C01101_BG3': (0, 0), 'C01101_C6': (874, 852), 'C01101_BG4': (0, 0), 'C01101_C7': (801, 910), 'C01101_BG5': (0, 0), 'C01110_C2': (1152, 631), 'C01110_BG0': (0, 0), 'C01110_C3': (1104, 772), 'C01110_BG1': (0, 0), 'C01110_C4': (1052, 854), 'C01110_BG2': (0, 0), 'C01110_C5': (1003, 934), 'C01110_BG3': (0, 0), 'C01110_C6': (957, 1024), 'C01110_BG4': (0, 0), 'C01110_C7': (897, 1101), 'C01110_BG5': (0, 0), 'C01120_C2': (1165, 790), 'C01120_BG0': (0, 0), 'C01120_C3': (1035, 907), 'C01120_BG1': (0, 0), 'C01120_C4': (944, 968), 'C01120_BG2': (0, 0), 'C01120_C5': (855, 1032), 'C01120_BG3': (0, 0), 'C01120_C6': (789, 1104), 'C01120_BG4': (0, 0), 'C01141_C2': (979, 758), 'C01141_BG0': (0, 0), 'C01141_C3': (876, 915), 'C01141_BG1': (0, 0), 'C01141_C4': (818, 1013), 'C01141_BG2': (0, 0), 'C01141_C5': (747, 1102), 'C01141_BG3': (0, 0), 'C01141_C6': (679, 1194), 'C01141_BG4': (0, 0), 'C01767_C2': (1086, 1011), 'C01767_BG0': (0, 0), 'C01767_C3': (963, 1093), 'C01767_BG1': (0, 0), 'C01767_C4': (858, 1151), 'C01767_BG2': (0, 0), 'C01767_C5': (751, 1203), 'C01767_BG3': (0, 0), 'C01767_C6': (646, 1261), 'C01767_BG4': (0, 0), 'C03060_C2': (991, 840), 'C03060_BG0': (0, 0), 'C03060_C3': (855, 946), 'C03060_BG1': (0, 0), 'C03060_C4': (755, 1009), 'C03060_BG2': (0, 0), 'C03060_C5': (670, 1076), 'C03060_BG3': (0, 0), 'C03060_C6': (601, 1144), 'C03060_BG4': (0, 0), 'C03060_C7': (523, 1220), 'C03060_BG5': (0, 0), 'C03069_C2': (943, 1074), 'C03069_BG0': (0, 0), 'C03069_C3': (814, 1160), 'C03069_BG1': (0, 0), 'C03069_C4': (718, 1223), 'C03069_BG2': (0, 0), 'C03069_C5': (623, 1289), 'C03069_BG3': (0, 0), 'C03069_C6': (539, 1365), 'C03069_BG4': (0, 0), 'C03572_C2': (1176, 731), 'C03572_BG0': (0, 0), 'C03572_C3': (1034, 792), 'C03572_BG1': (0, 0), 'C03572_C4': (944, 829), 'C03572_BG2': (0, 0), 'C03572_C5': (845, 861), 'C03572_BG3': (0, 0), 'C03572_C6': (747, 897), 'C03572_BG4': (0, 0), 'C03618_C2': (1259, 846), 'C03618_BG0': (0, 0), 'C03618_C3': (1109, 879), 'C03618_BG1': (0, 0), 'C03618_C4': (1010, 903), 'C03618_BG2': (0, 0), 'C03618_C5': (912, 938), 'C03618_BG3': (0, 0), 'C03618_C6': (818, 981), 'C03618_BG4': (0, 0), 'C03618_C7': (738, 1033), 'C03618_BG5': (0, 0), 'C04211_C2': (1004, 1036), 'C04211_BG0': (0, 0), 'C04211_C3': (884, 1118), 'C04211_BG1': (0, 0), 'C04211_C4': (810, 1167), 'C04211_BG2': (0, 0), 'C04211_C5': (737, 1208), 'C04211_BG3': (0, 0), 'C04211_C6': (662, 1249), 'C04211_BG4': (0, 0), 'C04216_C2': (1039, 948), 'C04216_BG0': (0, 0), 'C04216_C3': (934, 1063), 'C04216_BG1': (0, 0), 'C04216_C4': (852, 1134), 'C04216_BG2': (0, 0), 'C04216_C5': (758, 1190), 'C04216_BG3': (0, 0), 'C04216_C6': (663, 1247), 'C04216_BG4': (0, 0), 'C04216_C7': (565, 1317), 'C04216_BG5': (0, 0), 'C04311_C2': (938, 1030), 'C04311_BG0': (0, 0), 'C04311_C3': (862, 1145), 'C04311_BG1': (0, 0), 'C04311_C4': (794, 1202), 'C04311_BG2': (0, 0), 'C04311_C5': (748, 1264), 'C04311_BG3': (0, 0), 'C04311_C6': (704, 1330), 'C04311_BG4': (0, 0), 'C04311_C7': (633, 1388), 'C04311_BG5': (0, 0), 'C04311_T1': (553, 1471), 'C04311_BG6': (0, 0), 'C04646_C2': (1019, 639), 'C04646_BG0': (0, 0), 'C04646_C3': (925, 759), 'C04646_BG1': (0, 0), 'C04646_C4': (859, 841), 'C04646_BG2': (0, 0), 'C04646_C5': (801, 927), 'C04646_BG3': (0, 0), 'C04646_C6': (757, 1014), 'C04646_BG4': (0, 0), 'C11011_C2': (823, 890), 'C11011_BG0': (0, 0), 'C11011_C3': (737, 1030), 'C11011_BG1': (0, 0), 'C11011_C4': (679, 1126), 'C11011_BG2': (0, 0), 'C11011_C5': (625, 1228), 'C11011_BG3': (0, 0), 'C11011_C6': (581, 1331), 'C11011_BG4': (0, 0), 'C11011_C7': (531, 1446), 'C11011_BG5': (0, 0), 'C11446_C2': (874, 568), 'C11446_BG0': (0, 0), 'C11446_C3': (797, 741), 'C11446_BG1': (0, 0), 'C11446_C4': (732, 844), 'C11446_BG2': (0, 0), 'C11446_C5': (667, 946), 'C11446_BG3': (0, 0), 'C11446_C6': (636, 1055), 'C11446_BG4': (0, 0), 'C11446_C7': (581, 1147), 'C11446_BG5': (0, 0), 'L00166_L1': (926, 868), 'L00166_BG0': (0, 0), 'L00166_L2': (996, 1092), 'L00166_BG1': (0, 0), 'L00166_L3': (1045, 1321), 'L00166_BG2': (0, 0), 'L00166_L4': (1104, 1563), 'L00166_BG3': (0, 0), 'L00166_L5': (1125, 1817), 'L00166_BG4': (0, 0), 'L00306_L1': (1021, 821), 'L00306_BG0': (0, 0), 'L00306_L2': (1115, 1079), 'L00306_BG1': (0, 0), 'L00306_L3': (1205, 1354), 'L00306_BG2': (0, 0), 'L00306_L4': (1236, 1648), 'L00306_BG3': (0, 0), 'L00306_L5': (1198, 1927), 'L00306_BG4': (0, 0), 'L00309_L1': (712, 1068), 'L00309_BG0': (0, 0), 'L00309_L2': (753, 1300), 'L00309_BG1': (0, 0), 'L00309_L3': (784, 1545), 'L00309_BG2': (0, 0), 'L00309_L4': (794, 1792), 'L00309_BG3': (0, 0), 'L00309_L5': (761, 2037), 'L00309_BG4': (0, 0), 'L00309_S1': (647, 2251), 'L00309_BG5': (0, 0), 'L00321_L1': (979, 916), 'L00321_BG0': (0, 0), 'L00321_L2': (1030, 1178), 'L00321_BG1': (0, 0), 'L00321_L3': (1068, 1451), 'L00321_BG2': (0, 0), 'L00321_L4': (1079, 1744), 'L00321_BG3': (0, 0), 'L00321_L5': (1030, 2014), 'L00321_BG4': (0, 0), 'L00321_S1': (905, 2196), 'L00321_BG5': (0, 0), 'L00330_L1': (1216, 1155), 'L00330_BG0': (0, 0), 'L00330_L2': (1289, 1374), 'L00330_BG1': (0, 0), 'L00330_L3': (1329, 1602), 'L00330_BG2': (0, 0), 'L00330_L4': (1313, 1852), 'L00330_BG3': (0, 0), 'L00330_L5': (1210, 2059), 'L00330_BG4': (0, 0), 'L00330_T12': (1130, 959), 'L00330_BG5': (0, 0), 'L00337_L1': (1023, 1174), 'L00337_BG0': (0, 0), 'L00337_L2': (1081, 1401), 'L00337_BG1': (0, 0), 'L00337_L3': (1128, 1647), 'L00337_BG2': (0, 0), 'L00337_L4': (1144, 1891), 'L00337_BG3': (0, 0), 'L00337_L5': (1084, 2138), 'L00337_BG4': (0, 0), 'L00337_T12': (957, 964), 'L00337_BG5': (0, 0), 'L00351_L1': (1104, 1186), 'L00351_BG0': (0, 0), 'L00351_L2': (1150, 1409), 'L00351_BG1': (0, 0), 'L00351_L3': (1174, 1653), 'L00351_BG2': (0, 0), 'L00351_L4': (1175, 1886), 'L00351_BG3': (0, 0), 'L00351_L5': (1130, 2106), 'L00351_BG4': (0, 0), 'L00351_T12': (1069, 968), 'L00351_BG5': (0, 0), 'L00404_L1': (1006, 998), 'L00404_BG0': (0, 0), 'L00404_L2': (1086, 1159), 'L00404_BG1': (0, 0), 'L00404_L3': (1161, 1342), 'L00404_BG2': (0, 0), 'L00404_L4': (1238, 1548), 'L00404_BG3': (0, 0), 'L00404_L5': (1234, 1762), 'L00404_BG4': (0, 0), 'L00404_S1': (1132, 1923), 'L00404_BG5': (0, 0), 'L00404_T12': (942, 815), 'L00404_BG6': (0, 0), 'L00424_L1': (662, 694), 'L00424_BG0': (0, 0), 'L00424_L2': (741, 909), 'L00424_BG1': (0, 0), 'L00424_L3': (792, 1135), 'L00424_BG2': (0, 0), 'L00424_L4': (798, 1387), 'L00424_BG3': (0, 0), 'L00424_L5': (748, 1633), 'L00424_BG4': (0, 0), 'L00424_S1': (587, 1810), 'L00424_BG5': (0, 0), 'L00424_T12': (573, 480), 'L00424_BG6': (0, 0), 'L00431_L1': (959, 1180), 'L00431_BG0': (0, 0), 'L00431_L2': (998, 1414), 'L00431_BG1': (0, 0), 'L00431_L3': (1023, 1662), 'L00431_BG2': (0, 0), 'L00431_L4': (1022, 1925), 'L00431_BG3': (0, 0), 'L00431_L5': (976, 2180), 'L00431_BG4': (0, 0), 'L00431_T12': (927, 949), 'L00431_BG5': (0, 0), 'L00449_L1': (1005, 1206), 'L00449_BG0': (0, 0), 'L00449_L2': (1069, 1448), 'L00449_BG1': (0, 0), 'L00449_L3': (1094, 1707), 'L00449_BG2': (0, 0), 'L00449_L4': (1071, 1993), 'L00449_BG3': (0, 0), 'L00449_L5': (993, 2261), 'L00449_BG4': (0, 0), 'L00449_T12': (929, 980), 'L00449_BG5': (0, 0), 'L00643_L1': (1020, 1079), 'L00643_BG0': (0, 0), 'L00643_L2': (1145, 1286), 'L00643_BG1': (0, 0), 'L00643_L3': (1222, 1535), 'L00643_BG2': (0, 0), 'L00643_L4': (1229, 1794), 'L00643_BG3': (0, 0), 'L00643_L5': (1091, 2025), 'L00643_BG4': (0, 0), 'L00643_S1': (870, 2162), 'L00643_BG5': (0, 0), 'L00643_T12': (893, 888), 'L00643_BG6': (0, 0), 'L00656_L1': (978, 229), 'L00656_BG0': (0, 0), 'L00656_L2': (1067, 474), 'L00656_BG1': (0, 0), 'L00656_L3': (1145, 742), 'L00656_BG2': (0, 0), 'L00656_L4': (1188, 1032), 'L00656_BG3': (0, 0), 'L00656_L5': (1153, 1321), 'L00656_BG4': (0, 0), 'L00656_S1': (1020, 1574), 'L00656_BG5': (0, 0), 'L00699_L1': (1076, 885), 'L00699_BG0': (0, 0), 'L00699_L2': (1178, 1121), 'L00699_BG1': (0, 0), 'L00699_L3': (1261, 1363), 'L00699_BG2': (0, 0), 'L00699_L4': (1303, 1626), 'L00699_BG3': (0, 0), 'L00699_L5': (1322, 1897), 'L00699_BG4': (0, 0), 'L00699_T12': (996, 665), 'L00699_BG5': (0, 0), 'L00701_L1': (984, 897), 'L00701_BG0': (0, 0), 'L00701_L2': (1042, 1129), 'L00701_BG1': (0, 0), 'L00701_L3': (1097, 1381), 'L00701_BG2': (0, 0), 'L00701_L4': (1136, 1644), 'L00701_BG3': (0, 0), 'L00701_L5': (1132, 1892), 'L00701_BG4': (0, 0), 'L00701_S1': (951, 2081), 'L00701_BG5': (0, 0), 'L00707_L1': (851, 853), 'L00707_BG0': (0, 0), 'L00707_L2': (906, 1098), 'L00707_BG1': (0, 0), 'L00707_L3': (967, 1345), 'L00707_BG2': (0, 0), 'L00707_L4': (1024, 1606), 'L00707_BG3': (0, 0), 'L00707_L5': (1017, 1867), 'L00707_BG4': (0, 0), 'L00707_S1': (869, 2077), 'L00707_BG5': (0, 0), 'L00707_T12': (808, 628), 'L00707_BG6': (0, 0), 'L00758_L1': (709, 853), 'L00758_BG0': (0, 0), 'L00758_L2': (749, 1094), 'L00758_BG1': (0, 0), 'L00758_L3': (765, 1335), 'L00758_BG2': (0, 0), 'L00758_L4': (755, 1594), 'L00758_BG3': (0, 0), 'L00758_L5': (734, 1852), 'L00758_BG4': (0, 0), 'L00758_S1': (647, 2094), 'L00758_BG5': (0, 0), 'L00758_T12': (678, 638), 'L00758_BG6': (0, 0), 'L00763_L1': (1061, 895), 'L00763_BG0': (0, 0), 'L00763_L2': (1132, 1103), 'L00763_BG1': (0, 0), 'L00763_L3': (1183, 1349), 'L00763_BG2': (0, 0), 'L00763_L4': (1194, 1604), 'L00763_BG3': (0, 0), 'L00763_L5': (1144, 1862), 'L00763_BG4': (0, 0), 'L00763_S1': (999, 2051), 'L00763_BG5': (0, 0), 'L00763_T12': (1020, 713), 'L00763_BG6': (0, 0), 'L01094_L1': (1020, 1158), 'L01094_BG0': (0, 0), 'L01094_L2': (1134, 1373), 'L01094_BG1': (0, 0), 'L01094_L3': (1227, 1612), 'L01094_BG2': (0, 0), 'L01094_L4': (1254, 1870), 'L01094_BG3': (0, 0), 'L01094_L5': (1187, 2119), 'L01094_BG4': (0, 0), 'L01094_S1': (987, 2279), 'L01094_BG5': (0, 0), 'L01094_T12': (910, 959), 'L01094_BG6': (0, 0), 'L01110_L1': (1040, 1287), 'L01110_BG0': (0, 0), 'L01110_L2': (1089, 1522), 'L01110_BG1': (0, 0), 'L01110_L3': (1142, 1758), 'L01110_BG2': (0, 0), 'L01110_L4': (1146, 1980), 'L01110_BG3': (0, 0), 'L01110_L5': (1118, 2200), 'L01110_BG4': (0, 0), 'L01110_S1': (1066, 2374), 'L01110_BG5': (0, 0), 'L01110_T12': (1002, 1067), 'L01110_BG6': (0, 0), 'L01141_L1': (911, 1066), 'L01141_BG0': (0, 0), 'L01141_L2': (1065, 1287), 'L01141_BG1': (0, 0), 'L01141_L3': (1180, 1554), 'L01141_BG2': (0, 0), 'L01141_L4': (1210, 1833), 'L01141_BG3': (0, 0), 'L01141_L5': (1117, 2102), 'L01141_BG4': (0, 0), 'L01141_S1': (936, 2288), 'L01141_BG5': (0, 0), 'L01141_T12': (765, 867), 'L01141_BG6': (0, 0), 'L01156_L1': (1077, 795), 'L01156_BG0': (0, 0), 'L01156_L2': (1140, 1038), 'L01156_BG1': (0, 0), 'L01156_L3': (1212, 1291), 'L01156_BG2': (0, 0), 'L01156_L4': (1251, 1563), 'L01156_BG3': (0, 0), 'L01156_L5': (1164, 1814), 'L01156_BG4': (0, 0), 'L01156_T12': (1023, 565), 'L01156_BG5': (0, 0), 'L01168_L1': (1019, 766), 'L01168_BG0': (0, 0), 'L01168_L2': (1119, 1024), 'L01168_BG1': (0, 0), 'L01168_L3': (1180, 1289), 'L01168_BG2': (0, 0), 'L01168_L4': (1179, 1572), 'L01168_BG3': (0, 0), 'L01168_L5': (1092, 1844), 'L01168_BG4': (0, 0), 'L01168_T12': (916, 535), 'L01168_BG5': (0, 0), 'L01172_L1': (909, 845), 'L01172_BG0': (0, 0), 'L01172_L2': (985, 1053), 'L01172_BG1': (0, 0), 'L01172_L3': (1043, 1276), 'L01172_BG2': (0, 0), 'L01172_L4': (1071, 1508), 'L01172_BG3': (0, 0), 'L01172_L5': (1056, 1752), 'L01172_BG4': (0, 0), 'L01172_S1': (936, 1938), 'L01172_BG5': (0, 0), 'L01172_T12': (816, 661), 'L01172_BG6': (0, 0), 'L01195_L1': (1128, 626), 'L01195_BG0': (0, 0), 'L01195_L2': (1189, 868), 'L01195_BG1': (0, 0), 'L01195_L3': (1228, 1115), 'L01195_BG2': (0, 0), 'L01195_L4': (1236, 1369), 'L01195_BG3': (0, 0), 'L01195_L5': (1171, 1619), 'L01195_BG4': (0, 0), 'L01195_S1': (1015, 1817), 'L01195_BG5': (0, 0), 'L01195_T12': (1061, 411), 'L01195_BG6': (0, 0), 'L01218_L1': (1246, 693), 'L01218_BG0': (0, 0), 'L01218_L2': (1306, 926), 'L01218_BG1': (0, 0), 'L01218_L3': (1334, 1165), 'L01218_BG2': (0, 0), 'L01218_L4': (1300, 1410), 'L01218_BG3': (0, 0), 'L01218_L5': (1190, 1640), 'L01218_BG4': (0, 0), 'L01218_S1': (1006, 1789), 'L01218_BG5': (0, 0), 'L01218_T12': (1159, 487), 'L01218_BG6': (0, 0), 'L01630_L1': (739, 827), 'L01630_BG0': (0, 0), 'L01630_L2': (818, 1050), 'L01630_BG1': (0, 0), 'L01630_L3': (895, 1281), 'L01630_BG2': (0, 0), 'L01630_L4': (928, 1522), 'L01630_BG3': (0, 0), 'L01630_L5': (912, 1774), 'L01630_BG4': (0, 0), 'L01630_S1': (775, 1959), 'L01630_BG5': (0, 0), 'L01630_T12': (667, 625), 'L01630_BG6': (0, 0), 'L02429_L1': (864, 922), 'L02429_BG0': (0, 0), 'L02429_L2': (913, 1157), 'L02429_BG1': (0, 0), 'L02429_L3': (947, 1388), 'L02429_BG2': (0, 0), 'L02429_L4': (926, 1602), 'L02429_BG3': (0, 0), 'L02429_L5': (842, 1814), 'L02429_BG4': (0, 0), 'L02484_L1': (1018, 945), 'L02484_BG0': (0, 0), 'L02484_L2': (1069, 1185), 'L02484_BG1': (0, 0), 'L02484_L3': (1083, 1457), 'L02484_BG2': (0, 0), 'L02484_L4': (1034, 1719), 'L02484_BG3': (0, 0), 'L02484_L5': (933, 1951), 'L02484_BG4': (0, 0), 'L02484_S1': (725, 2066), 'L02484_BG5': (0, 0), 'L02484_T12': (945, 718), 'L02484_BG6': (0, 0), 'L02560_L1': (696, 839), 'L02560_BG0': (0, 0), 'L02560_L2': (789, 1055), 'L02560_BG1': (0, 0), 'L02560_L3': (895, 1314), 'L02560_BG2': (0, 0), 'L02560_L4': (974, 1597), 'L02560_BG3': (0, 0), 'L02560_L5': (982, 1893), 'L02560_BG4': (0, 0), 'L02560_S1': (827, 2133), 'L02560_BG5': (0, 0), 'L02560_T12': (631, 605), 'L02560_BG6': (0, 0), 'L02847_L1': (959, 837), 'L02847_BG0': (0, 0), 'L02847_L2': (1017, 1070), 'L02847_BG1': (0, 0), 'L02847_L3': (1080, 1312), 'L02847_BG2': (0, 0), 'L02847_L4': (1080, 1575), 'L02847_BG3': (0, 0), 'L02847_L5': (1027, 1839), 'L02847_BG4': (0, 0), 'L02847_S1': (830, 1951), 'L02847_BG5': (0, 0), 'L02847_T12': (912, 603), 'L02847_BG6': (0, 0), 'L02898_L1': (1202, 1027), 'L02898_BG0': (0, 0), 'L02898_L2': (1243, 1268), 'L02898_BG1': (0, 0), 'L02898_L3': (1303, 1535), 'L02898_BG2': (0, 0), 'L02898_L4': (1340, 1807), 'L02898_BG3': (0, 0), 'L02898_L5': (1351, 2074), 'L02898_BG4': (0, 0), 'L02898_T12': (1175, 809), 'L02898_BG5': (0, 0), 'L02941_L1': (944, 819), 'L02941_BG0': (0, 0), 'L02941_L2': (1008, 1064), 'L02941_BG1': (0, 0), 'L02941_L3': (1071, 1318), 'L02941_BG2': (0, 0), 'L02941_L4': (1129, 1574), 'L02941_BG3': (0, 0), 'L02941_L5': (1130, 1842), 'L02941_BG4': (0, 0), 'L02941_S1': (1028, 2036), 'L02941_BG5': (0, 0), 'L02941_T12': (883, 582), 'L02941_BG6': (0, 0), 'L03118_L1': (1095, 933), 'L03118_BG0': (0, 0), 'L03118_L2': (1175, 1151), 'L03118_BG1': (0, 0), 'L03118_L3': (1235, 1387), 'L03118_BG2': (0, 0), 'L03118_L4': (1263, 1645), 'L03118_BG3': (0, 0), 'L03118_L5': (1222, 1882), 'L03118_BG4': (0, 0), 'L03118_T12': (1034, 720), 'L03118_BG5': (0, 0), 'L03614_L1': (1142, 684), 'L03614_BG0': (0, 0), 'L03614_L2': (1231, 922), 'L03614_BG1': (0, 0), 'L03614_L3': (1283, 1175), 'L03614_BG2': (0, 0), 'L03614_L4': (1234, 1434), 'L03614_BG3': (0, 0), 'L03614_L5': (1123, 1659), 'L03614_BG4': (0, 0), 'L03614_S1': (903, 1823), 'L03614_BG5': (0, 0), 'L03614_T12': (1041, 461), 'L03614_BG6': (0, 0), 'L04245_L1': (967, 1035), 'L04245_BG0': (0, 0), 'L04245_L2': (1043, 1270), 'L04245_BG1': (0, 0), 'L04245_L3': (1104, 1521), 'L04245_BG2': (0, 0), 'L04245_L4': (1154, 1764), 'L04245_BG3': (0, 0), 'L04245_L5': (1151, 1999), 'L04245_BG4': (0, 0), 'L04245_S1': (1003, 2172), 'L04245_BG5': (0, 0), 'L04245_T12': (922, 787), 'L04245_BG6': (0, 0), 'L11767_L1': (789, 697), 'L11767_BG0': (0, 0), 'L11767_L2': (836, 930), 'L11767_BG1': (0, 0), 'L11767_L3': (865, 1176), 'L11767_BG2': (0, 0), 'L11767_L4': (882, 1422), 'L11767_BG3': (0, 0), 'L11767_L5': (878, 1676), 'L11767_BG4': (0, 0), 'L11767_S1': (762, 1883), 'L11767_BG5': (0, 0), 'L11921_L1': (995, 438), 'L11921_BG0': (0, 0), 'L11921_L2': (1075, 654), 'L11921_BG1': (0, 0), 'L11921_L3': (1116, 898), 'L11921_BG2': (0, 0), 'L11921_L4': (1118, 1145), 'L11921_BG3': (0, 0), 'L11921_L5': (1052, 1396), 'L11921_BG4': (0, 0), 'L12989_L1': (723, 611), 'L12989_BG0': (0, 0), 'L12989_L2': (798, 877), 'L12989_BG1': (0, 0), 'L12989_L3': (874, 1158), 'L12989_BG2': (0, 0), 'L12989_L4': (935, 1453), 'L12989_BG3': (0, 0), 'L12989_L5': (928, 1737), 'L12989_BG4': (0, 0), 'L12989_S1': (793, 2001), 'L12989_BG5': (0, 0)}\n"
     ]
    }
   ],
   "source": [
    "with open(os.path.join(data_path,'points',mode+'.pkl'),'rb') as f:\n",
    "    loaded = pickle.load(f)\n",
    "\n",
    "print(loaded)"
   ]
  },
  {
   "cell_type": "code",
   "execution_count": 10,
   "metadata": {},
   "outputs": [
    {
     "name": "stdout",
     "output_type": "stream",
     "text": [
      "/gpfs3/well/papiez/users/saa032/projects/Medical-SAM-Adapter\n"
     ]
    }
   ],
   "source": [
    "print(os.getcwd())"
   ]
  }
 ],
 "metadata": {
  "kernelspec": {
   "display_name": "Python 3 (ipykernel)",
   "language": "python",
   "name": "python3"
  },
  "language_info": {
   "codemirror_mode": {
    "name": "ipython",
    "version": 3
   },
   "file_extension": ".py",
   "mimetype": "text/x-python",
   "name": "python",
   "nbconvert_exporter": "python",
   "pygments_lexer": "ipython3",
   "version": "3.11.9"
  }
 },
 "nbformat": 4,
 "nbformat_minor": 2
}
